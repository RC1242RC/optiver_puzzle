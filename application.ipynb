{
 "cells": [
  {
   "cell_type": "code",
   "execution_count": 1,
   "metadata": {},
   "outputs": [],
   "source": [
    "import numpy as np\n",
    "import matplotlib.pyplot as plt\n",
    "import pandas as pd\n",
    "import random\n",
    "from tqdm import tqdm\n",
    "from scipy import stats"
   ]
  },
  {
   "cell_type": "code",
   "execution_count": 27,
   "metadata": {},
   "outputs": [],
   "source": [
    "# Ant class to move in plane\n",
    "\n",
    "class Ant:\n",
    "\n",
    "    def __init__(self, pos=[0,0], length=10):\n",
    "        x = pos[0]\n",
    "        y = pos[1]\n",
    "        self.init_position = np.asarray([x, y])\n",
    "        self.position = np.asarray([x, y])\n",
    "        self.directions = np.asarray([[0, 1],\n",
    "                                      [0, -1],\n",
    "                                      [1, 0],\n",
    "                                      [-1,0]]) * length\n",
    "        self.moves = 0\n",
    "\n",
    "    def move(self):\n",
    "        choice = random.randint(0, len(self.directions) - 1)\n",
    "        self.position = self.position + self.directions[choice]\n",
    "        self.moves += 1\n",
    "        return self.position\n",
    "\n",
    "# Simulation function which controls Ants\n",
    "\n",
    "def run_simulation(runs, func):\n",
    "\n",
    "    moves = []\n",
    "\n",
    "    for i in tqdm(range(runs)):\n",
    "        a = Ant()\n",
    "        found = False\n",
    "        while not found:\n",
    "            pos = a.move()\n",
    "            found = func(pos)\n",
    "        moves += [a.moves]\n",
    "\n",
    "    return np.asarray(moves)\n",
    "\n",
    "# Plotting function\n",
    "\n",
    "def plot_moves(moves):\n",
    "\n",
    "    std = np.std(moves)\n",
    "    mean = np.mean(moves)\n",
    "    x = np.linspace(min(moves), max(moves), 1000)\n",
    "    norm = stats.norm(loc=mean, scale=std)\n",
    "\n",
    "    plt.hist(moves, max(moves))\n",
    "    plt.plot(x, norm.pdf(x)*len(moves), label=\"Avg={}, STD={}\".format(mean, std))\n",
    "    plt.legend()\n",
    "    plt.plot()\n",
    "\n",
    "# Three boundary functions; these correspond to the three problems\n",
    "\n",
    "def found1(pos):\n",
    "    x = pos[0]\n",
    "    y = pos[1]\n",
    "    if (x == 20) or (x == -20) or (y == 20) or (y == -20):\n",
    "        return True\n",
    "    else:\n",
    "        return False \n",
    "\n",
    "def found2(pos):\n",
    "    x = pos[0]\n",
    "    y = pos[1]\n",
    "    if (y >= -x + 10):\n",
    "        return True\n",
    "    else:\n",
    "        return False \n",
    "    \n",
    "def found3(pos):\n",
    "    x = float(pos[0])\n",
    "    y = float(pos[1])\n",
    "    if ((x - 2.5)/30)**2 + ((y - 2.5)/40)**2 >= 1:\n",
    "        return True\n",
    "    else:\n",
    "        return False \n",
    "\n",
    "\n"
   ]
  },
  {
   "cell_type": "code",
   "execution_count": 31,
   "metadata": {},
   "outputs": [
    {
     "name": "stderr",
     "output_type": "stream",
     "text": [
      "100%|██████████| 1000000/1000000 [00:17<00:00, 55759.99it/s]\n"
     ]
    },
    {
     "name": "stdout",
     "output_type": "stream",
     "text": [
      "The average time to find food is 4.492212s\n"
     ]
    }
   ],
   "source": [
    "# Problem 1: The Ant takes on average 4.5s to find the food\n",
    "moves = run_simulation(runs=1000000, func=found1)\n",
    "print(\"The average time to find food is {}s\".format(np.mean(moves)))"
   ]
  },
  {
   "cell_type": "code",
   "execution_count": 37,
   "metadata": {},
   "outputs": [
    {
     "name": "stderr",
     "output_type": "stream",
     "text": [
      "100%|██████████| 1000/1000 [00:06<00:00, 164.65it/s]"
     ]
    },
    {
     "name": "stdout",
     "output_type": "stream",
     "text": [
      "The average time to find food is 2604.47s\n"
     ]
    },
    {
     "name": "stderr",
     "output_type": "stream",
     "text": [
      "\n"
     ]
    }
   ],
   "source": [
    "# Problem 2: The average time to find the food does not seem to converge\n",
    "moves = run_simulation(runs=1000, func=found2)\n",
    "print(\"The average time to find food is {}s\".format(np.mean(moves)))\n"
   ]
  },
  {
   "cell_type": "code",
   "execution_count": 38,
   "metadata": {},
   "outputs": [
    {
     "name": "stderr",
     "output_type": "stream",
     "text": [
      "100%|██████████| 1000000/1000000 [01:12<00:00, 13764.74it/s]\n"
     ]
    },
    {
     "name": "stdout",
     "output_type": "stream",
     "text": [
      "The average time to find food is 13.988347s\n"
     ]
    }
   ],
   "source": [
    "# Problem 3: The Ant takes on average 14s to find the food\n",
    "moves = run_simulation(runs=1000000, func=found3)\n",
    "print(\"The average time to find food is {}s\".format(np.mean(moves)))"
   ]
  }
 ],
 "metadata": {
  "kernelspec": {
   "display_name": "myvenv",
   "language": "python",
   "name": "python3"
  },
  "language_info": {
   "codemirror_mode": {
    "name": "ipython",
    "version": 3
   },
   "file_extension": ".py",
   "mimetype": "text/x-python",
   "name": "python",
   "nbconvert_exporter": "python",
   "pygments_lexer": "ipython3",
   "version": "3.10.6"
  },
  "orig_nbformat": 4
 },
 "nbformat": 4,
 "nbformat_minor": 2
}
