{
 "cells": [
  {
   "cell_type": "code",
   "execution_count": 1,
   "metadata": {},
   "outputs": [],
   "source": [
    "import numpy as np\n",
    "import matplotlib.pyplot as plt\n",
    "import pandas as pd\n",
    "import random\n",
    "from tqdm import tqdm\n",
    "from scipy import stats"
   ]
  },
  {
   "cell_type": "code",
   "execution_count": 2,
   "metadata": {},
   "outputs": [],
   "source": [
    "class Ant:\n",
    "\n",
    "    def __init__(self, pos=[0,0], length=10):\n",
    "        x = pos[0]\n",
    "        y = pos[1]\n",
    "        self.init_position = np.asarray([x, y])\n",
    "        self.position = np.asarray([x, y])\n",
    "        self.directions = np.asarray([[0, 1],\n",
    "                                      [0, -1],\n",
    "                                      [1, 0],\n",
    "                                      [-1,0]]) * length\n",
    "        self.moves = 0\n",
    "\n",
    "    def move(self):\n",
    "        choice = random.randint(0, len(self.directions) - 1)\n",
    "        self.position = self.position + self.directions[choice]\n",
    "        self.moves += 1\n",
    "        return self.position\n",
    "\n",
    "def run_simulation(runs, func):\n",
    "\n",
    "    moves = []\n",
    "\n",
    "    for i in tqdm(range(runs)):\n",
    "        a = Ant()\n",
    "        found = False\n",
    "        while not found:\n",
    "            pos = a.move()\n",
    "            found = func(pos)\n",
    "        moves += [a.moves]\n",
    "\n",
    "    return np.asarray(moves)\n",
    "\n",
    "def plot_moves(moves):\n",
    "\n",
    "    std = np.std(moves)\n",
    "    mean = np.mean(moves)\n",
    "    x = np.linspace(min(moves), max(moves), 1000)\n",
    "    norm = stats.norm(loc=mean, scale=std)\n",
    "\n",
    "    plt.hist(moves, max(moves))\n",
    "    plt.plot(x, norm.pdf(x)*len(moves), label=\"Avg={}, STD={}\".format(mean, std))\n",
    "    plt.legend()\n",
    "    plt.plot()\n",
    "\n",
    "def found1(pos):\n",
    "    x = pos[0]\n",
    "    y = pos[1]\n",
    "    if (x == 20) or (x == -20) or (y == 20) or (y == -20):\n",
    "        return True\n",
    "    else:\n",
    "        return False \n",
    "\n",
    "def found2(pos):\n",
    "    x = pos[0]\n",
    "    y = pos[1]\n",
    "    if (y >= -x + 10):\n",
    "        return True\n",
    "    else:\n",
    "        return False \n",
    "\n",
    "\n"
   ]
  },
  {
   "cell_type": "code",
   "execution_count": 3,
   "metadata": {},
   "outputs": [
    {
     "name": "stderr",
     "output_type": "stream",
     "text": [
      "100%|██████████| 1000000/1000000 [00:16<00:00, 59673.50it/s]\n"
     ]
    }
   ],
   "source": [
    "moves = run_simulation(runs=1000000, func=found1)"
   ]
  },
  {
   "cell_type": "code",
   "execution_count": 4,
   "metadata": {},
   "outputs": [
    {
     "data": {
      "image/png": "[encoded data removed]",
      "text/plain": [
       "<Figure size 640x480 with 1 Axes>"
      ]
     },
     "metadata": {},
     "output_type": "display_data"
    }
   ],
   "source": [
    "plot_moves(moves)"
   ]
  },
  {
   "cell_type": "code",
   "execution_count": 5,
   "metadata": {},
   "outputs": [
    {
     "data": {
      "text/plain": [
       "4.501487"
      ]
     },
     "execution_count": 5,
     "metadata": {},
     "output_type": "execute_result"
    }
   ],
   "source": [
    "np.mean(moves)"
   ]
  },
  {
   "cell_type": "code",
   "execution_count": 100,
   "metadata": {},
   "outputs": [
    {
     "name": "stderr",
     "output_type": "stream",
     "text": [
      "100%|██████████| 10000/10000 [04:35<00:00, 36.35it/s]\n"
     ]
    }
   ],
   "source": [
    "moves = run_simulation(runs=10000, func=found2)"
   ]
  },
  {
   "cell_type": "code",
   "execution_count": 105,
   "metadata": {},
   "outputs": [
    {
     "data": {
      "text/plain": [
       "11934.7686"
      ]
     },
     "execution_count": 105,
     "metadata": {},
     "output_type": "execute_result"
    }
   ],
   "source": [
    "np.mean(moves)"
   ]
  },
  {
   "cell_type": "code",
   "execution_count": 6,
   "metadata": {},
   "outputs": [
    {
     "name": "stdout",
     "output_type": "stream",
     "text": [
      "[[0.   0.25 0.   0.25 0.   0.   0.   0.   0.   0.25]\n",
      " [0.25 0.   0.25 0.   0.25 0.   0.   0.   0.   0.25]\n",
      " [0.   0.25 0.   0.   0.   0.25 0.   0.   0.   0.25]\n",
      " [0.25 0.   0.   0.   0.25 0.   0.25 0.   0.   0.25]\n",
      " [0.   0.25 0.   0.25 0.   0.25 0.   0.25 0.   0.  ]\n",
      " [0.   0.   0.25 0.   0.25 0.   0.   0.   0.25 0.25]\n",
      " [0.   0.   0.   0.25 0.   0.   0.   0.25 0.   0.25]\n",
      " [0.   0.   0.   0.   0.25 0.   0.25 0.   0.25 0.25]\n",
      " [0.   0.   0.   0.   0.   0.25 0.   0.25 0.   0.25]\n",
      " [0.   0.   0.   0.   0.   0.   0.   0.   0.   1.  ]]\n"
     ]
    }
   ],
   "source": [
    "l = 3\n",
    "p_matrix = np.zeros((l, l))\n",
    "t_matrix = []\n",
    "\n",
    "for i in range(l):\n",
    "    for j in range(l):\n",
    "        temp_matrix = p_matrix.copy()\n",
    "        for x in [[i+1,j], [i-1,j], [i,j-1], [i,j+1]]:\n",
    "            if (x[0] < 0) or (x[1] < 0) or (x[0] >= l) or (x[1] >= l):\n",
    "                pass\n",
    "            else:\n",
    "                temp_matrix[x[0], x[1]] = 0.25\n",
    "        temp_matrix = temp_matrix.flatten()\n",
    "        if (j==0) or (i==0) or (j==l-1) or (i==l-1):\n",
    "            temp_matrix = np.append(temp_matrix, [0.25], axis=0)\n",
    "        else:\n",
    "            temp_matrix = np.append(temp_matrix, [0], axis=0)\n",
    "            \n",
    "        t_matrix += [temp_matrix]\n",
    "\n",
    "\n",
    "#state = [0, 0, 0, 0, 0, 0, 0, 0.25, 0, 0, 0, 0.25, 0, 0.25, 0, 0, 0, 0.25, 0, 0, 0, 0, 0, 0, 0]\n",
    "t_matrix = np.asarray(t_matrix)\n",
    "t_matrix = np.append(t_matrix, np.asarray([[0,0,0,0,0,0,0,0,0,1]]), axis=0)\n",
    "print(t_matrix)"
   ]
  },
  {
   "cell_type": "code",
   "execution_count": 16,
   "metadata": {},
   "outputs": [
    {
     "name": "stdout",
     "output_type": "stream",
     "text": [
      "[[0.   0.25 0.   0.25 0.   0.   0.   0.   0.  ]\n",
      " [0.25 0.   0.25 0.   0.25 0.   0.   0.   0.  ]\n",
      " [0.   0.25 0.   0.   0.   0.25 0.   0.   0.  ]\n",
      " [0.25 0.   0.   0.   0.25 0.   0.25 0.   0.  ]\n",
      " [0.   0.25 0.   0.25 0.   0.25 0.   0.25 0.  ]\n",
      " [0.   0.   0.25 0.   0.25 0.   0.   0.   0.25]\n",
      " [0.   0.   0.   0.25 0.   0.   0.   0.25 0.  ]\n",
      " [0.   0.   0.   0.   0.25 0.   0.25 0.   0.25]\n",
      " [0.   0.   0.   0.   0.   0.25 0.   0.25 0.  ]]\n",
      "[[1.19642857 0.39285714 0.125      0.39285714 0.25       0.10714286\n",
      "  0.125      0.10714286 0.05357143]\n",
      " [0.39285714 1.32142857 0.39285714 0.25       0.5        0.25\n",
      "  0.10714286 0.17857143 0.10714286]\n",
      " [0.125      0.39285714 1.19642857 0.10714286 0.25       0.39285714\n",
      "  0.05357143 0.10714286 0.125     ]\n",
      " [0.39285714 0.25       0.10714286 1.32142857 0.5        0.17857143\n",
      "  0.39285714 0.25       0.10714286]\n",
      " [0.25       0.5        0.25       0.5        1.5        0.5\n",
      "  0.25       0.5        0.25      ]\n",
      " [0.10714286 0.25       0.39285714 0.17857143 0.5        1.32142857\n",
      "  0.10714286 0.25       0.39285714]\n",
      " [0.125      0.10714286 0.05357143 0.39285714 0.25       0.10714286\n",
      "  1.19642857 0.39285714 0.125     ]\n",
      " [0.10714286 0.17857143 0.10714286 0.25       0.5        0.25\n",
      "  0.39285714 1.32142857 0.39285714]\n",
      " [0.05357143 0.10714286 0.125      0.10714286 0.25       0.39285714\n",
      "  0.125      0.39285714 1.19642857]]\n"
     ]
    }
   ],
   "source": [
    "q_matrix = t_matrix.copy()[:-1, :-1]\n",
    "print(q_matrix)\n",
    "I = np.identity(9)\n",
    "\n",
    "m_matrix = np.linalg.inv(I - q_matrix)\n",
    "\n",
    "print(m_matrix)"
   ]
  },
  {
   "cell_type": "code",
   "execution_count": 18,
   "metadata": {},
   "outputs": [],
   "source": [
    "string = \"\"\n",
    "for i in m_matrix:\n",
    "    temp_str = np.array2string(i, separator=\" & \", prefix=\"\", suffix=\"\", formatter={'float_kind':lambda x: \"%.2f\" % x})\n",
    "    string += temp_str[1:-1] + \" \\\\\\ \"\n",
    "with open(\"matrix.txt\", \"w\") as file:\n",
    "    file.write(string)"
   ]
  }
 ],
 "metadata": {
  "kernelspec": {
   "display_name": "myvenv",
   "language": "python",
   "name": "python3"
  },
  "language_info": {
   "codemirror_mode": {
    "name": "ipython",
    "version": 3
   },
   "file_extension": ".py",
   "mimetype": "text/x-python",
   "name": "python",
   "nbconvert_exporter": "python",
   "pygments_lexer": "ipython3",
   "version": "3.10.6"
  },
  "orig_nbformat": 4
 },
 "nbformat": 4,
 "nbformat_minor": 2
}
